{
 "cells": [
  {
   "cell_type": "markdown",
   "metadata": {},
   "source": [
    "# Querying the Knowledge Graph with Neo4j Cypher\n",
    "\n",
    "Prereqs: \n",
    "    \n",
    "*  The default Movies Neo4j database: Either [Neo4j Desktop](https://neo4j.com/download/) (local instance) or [Aura](https://neo4j.com/product/auradb/) (cloud instance)"
   ]
  },
  {
   "cell_type": "code",
   "execution_count": 17,
   "metadata": {},
   "outputs": [],
   "source": [
    "from langchain_community.graphs import Neo4jGraph\n",
    "from neo4j import GraphDatabase\n",
    "\n",
    "from importlib import reload\n",
    "import utils\n",
    "\n",
    "import warnings\n",
    "warnings.filterwarnings('ignore')\n",
    "#reload(utils)"
   ]
  },
  {
   "cell_type": "markdown",
   "metadata": {},
   "source": [
    "## What is Cypher?\n",
    "\n",
    "Neo4j Cypher is a query language for the Neo4j graph database. It allows you to create, read, update, and delete nodes and relationships in a graph. Cypher is similar to SQL but designed for graph databases, making it easier to work with graph data. It's designed to express graph patterns."
   ]
  },
  {
   "cell_type": "markdown",
   "metadata": {},
   "source": [
    "### Connect to the Neo4j database \n",
    "Connect to the graph database using the [LangChain Neo4jGraph connector](https://api.python.langchain.com/en/latest/graphs/langchain_community.graphs.neo4j_graph.Neo4jGraph.html)."
   ]
  },
  {
   "cell_type": "code",
   "execution_count": 3,
   "metadata": {},
   "outputs": [],
   "source": [
    "graph = Neo4jGraph()"
   ]
  },
  {
   "cell_type": "markdown",
   "metadata": {},
   "source": [
    "### Query the graph database"
   ]
  },
  {
   "cell_type": "markdown",
   "metadata": {},
   "source": [
    "Match all nodes in graph"
   ]
  },
  {
   "cell_type": "code",
   "execution_count": null,
   "metadata": {},
   "outputs": [],
   "source": [
    "cypher = \"\"\"Match (n) return count(n)\"\"\"\n",
    "\n",
    "result = graph.query(cypher)\n",
    "result"
   ]
  },
  {
   "cell_type": "markdown",
   "metadata": {},
   "source": [
    "Match only the `Movie` nodes using the node label"
   ]
  },
  {
   "cell_type": "code",
   "execution_count": null,
   "metadata": {},
   "outputs": [],
   "source": [
    "cypher = \"\"\"\n",
    "MATCH (m:Movie) \n",
    "RETURN count(m) AS numberOfMovies\n",
    "\"\"\"\n",
    "\n",
    "result = graph.query(cypher)\n",
    "result"
   ]
  },
  {
   "cell_type": "markdown",
   "metadata": {},
   "source": [
    "Match only the `Person` nodes using the node label"
   ]
  },
  {
   "cell_type": "code",
   "execution_count": null,
   "metadata": {},
   "outputs": [],
   "source": [
    "cypher = \"\"\"\n",
    "MATCH (people:Person) \n",
    "RETURN count(people) AS numberOfPeople\n",
    "\"\"\"\n",
    "\n",
    "result = graph.query(cypher)\n",
    "result"
   ]
  },
  {
   "cell_type": "markdown",
   "metadata": {},
   "source": [
    "Match a single `Person` node using `name` property"
   ]
  },
  {
   "cell_type": "code",
   "execution_count": null,
   "metadata": {},
   "outputs": [],
   "source": [
    "cypher = \"\"\"\n",
    "MATCH (tom:Person {name: 'Tom Hanks'})\n",
    "RETURN tom\n",
    "\"\"\"\n",
    "\n",
    "result = graph.query(cypher)\n",
    "result"
   ]
  },
  {
   "cell_type": "markdown",
   "metadata": {},
   "source": [
    "Match a single `Movie` node using `title` property"
   ]
  },
  {
   "cell_type": "code",
   "execution_count": 10,
   "metadata": {},
   "outputs": [
    {
     "data": {
      "text/plain": [
       "[{'apollo13': {'tagline': 'Houston, we have a problem.',\n",
       "   'title': 'Apollo 13',\n",
       "   'released': 1995}}]"
      ]
     },
     "execution_count": 10,
     "metadata": {},
     "output_type": "execute_result"
    }
   ],
   "source": [
    "cypher = \"\"\"\n",
    "MATCH (apollo13:Movie {title: 'Apollo 13'})\n",
    "RETURN apollo13\n",
    "\"\"\"\n",
    "\n",
    "result = graph.query(cypher)\n",
    "result"
   ]
  },
  {
   "cell_type": "markdown",
   "metadata": {},
   "source": [
    "Match movies released in the 1990s and return their titles."
   ]
  },
  {
   "cell_type": "code",
   "execution_count": null,
   "metadata": {},
   "outputs": [],
   "source": [
    "cypher = \"\"\"\n",
    "MATCH (nineties:Movie) \n",
    "WHERE nineties.released >= 1990 AND nineties.released < 2000 \n",
    "RETURN nineties.title\n",
    "\"\"\"\n",
    "\n",
    "result = graph.query(cypher)\n",
    "result"
   ]
  },
  {
   "cell_type": "markdown",
   "metadata": {},
   "source": [
    "Match all `Person`s who have co-acted with Tom Hanks in any `Movie`"
   ]
  },
  {
   "cell_type": "code",
   "execution_count": null,
   "metadata": {},
   "outputs": [],
   "source": [
    "cypher = \"\"\"\n",
    "MATCH (tom:Person {name: \"Tom Hanks\"})-[:ACTED_IN]->(m:Movie)<-[:ACTED_IN]-(p:Person) \n",
    "RETURN p.name, m.title\n",
    "\"\"\"\n",
    "\n",
    "result = graph.query(cypher)\n",
    "result"
   ]
  },
  {
   "cell_type": "markdown",
   "metadata": {},
   "source": [
    "Match `Movie`s and `Actor`s that are 3 hops away from Kevin Bacon. (From [Neo4j graph examples - movies](https://github.com/neo4j-graph-examples/movies))"
   ]
  },
  {
   "cell_type": "code",
   "execution_count": null,
   "metadata": {},
   "outputs": [],
   "source": [
    "cypher = \"\"\"\n",
    "MATCH (p:Person {name: 'Kevin Bacon'})-[*1..3]-(hollywood) \n",
    "RETURN DISTINCT p, hollywood\n",
    "\"\"\"\n",
    "\n",
    "result = graph.query(cypher)\n",
    "result\n"
   ]
  }
 ],
 "metadata": {
  "kernelspec": {
   "display_name": "Python 3",
   "language": "python",
   "name": "python3"
  },
  "language_info": {
   "codemirror_mode": {
    "name": "ipython",
    "version": 3
   },
   "file_extension": ".py",
   "mimetype": "text/x-python",
   "name": "python",
   "nbconvert_exporter": "python",
   "pygments_lexer": "ipython3",
   "version": "3.12.5"
  }
 },
 "nbformat": 4,
 "nbformat_minor": 2
}
